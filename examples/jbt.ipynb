{
 "cells": [
  {
   "cell_type": "markdown",
   "metadata": {},
   "source": [
    "# Just Bundle Things"
   ]
  },
  {
   "cell_type": "markdown",
   "metadata": {},
   "source": [
    "This script runs through some things you can do with owmeta bundles\n",
    "\n",
    " - [BASICS](#BASICS) Creating and listing bundles\n",
    " - [FETCH](#FETCH) Getting bundles\n",
    " - [LOCAL](#LOCAL) Local index and local cache\n",
    " - [REMOTE](#REMOTE) Remote repositories and distributed file shares\n",
    " - [INSTALL](#INSTALL) Installing a bundle to the local index"
   ]
  },
  {
   "cell_type": "markdown",
   "metadata": {},
   "source": [
    "We'll do everything in a temporary directory and clean up at the end"
   ]
  },
  {
   "cell_type": "code",
   "execution_count": 5,
   "metadata": {},
   "outputs": [],
   "source": [
    "working_directory=$(mktemp -d)\n",
    "cd $working_directory\n",
    "cleanup () {\n",
    "    cd /\n",
    "    if [ -d \"$working_directory\" ] ; then\n",
    "        rm -rf $working_directory\n",
    "    fi\n",
    "}\n",
    "# Clean up when the script exits normally or with an \"INT\" signal\n",
    "trap cleanup EXIT INT"
   ]
  },
  {
   "cell_type": "code",
   "execution_count": 8,
   "metadata": {},
   "outputs": [
    {
     "name": "stdout",
     "output_type": "stream",
     "text": [
      "/tmp/tmp.Z2blYPTlnH\n"
     ]
    }
   ],
   "source": [
    "echo $(pwd)"
   ]
  },
  {
   "cell_type": "markdown",
   "metadata": {},
   "source": [
    "We'll also be using the common owmeta database"
   ]
  },
  {
   "cell_type": "code",
   "execution_count": 18,
   "metadata": {},
   "outputs": [
    {
     "name": "stdout",
     "output_type": "stream",
     "text": [
      "Cloning...\n",
      "100%|████████████████████████████████| 271.0/271.0 [00:05<00:00, 45.30objects/s]\n",
      "Deserializing...\n",
      "0 ctx [00:00, ? ctx/s]\n",
      "  1%|▍                                        | 2/202 [00:00<00:14, 14.07 ctx/s]\n",
      "  2%|█                                        | 5/202 [00:00<00:14, 14.03 ctx/s]\n",
      "  6%|██▍                                     | 12/202 [00:00<00:10, 17.98 ctx/s]\n",
      " 12%|████▊                                   | 24/202 [00:00<00:06, 26.86 ctx/s]\n",
      " 16%|██████▌                                 | 33/202 [00:00<00:05, 29.89 ctx/s]\n",
      " 24%|█████████▌                              | 48/202 [00:01<00:03, 42.34 ctx/s]\n",
      " 30%|████████████                            | 61/202 [00:04<00:18,  7.49 ctx/s]\n",
      " 41%|████████████████▏                       | 82/202 [00:04<00:06, 17.65 ctx/s]\n",
      " 44%|█████████████████▍                      | 88/202 [00:05<00:09, 12.17 ctx/s]\n",
      " 46%|██████████████████▍                     | 93/202 [00:05<00:06, 15.70 ctx/s]\n",
      " 52%|████████████████████▍                  | 106/202 [00:06<00:04, 22.40 ctx/s]\n",
      " 55%|█████████████████████▌                 | 112/202 [00:06<00:03, 27.05 ctx/s]\n",
      " 62%|████████████████████████▎              | 126/202 [00:06<00:02, 35.36 ctx/s]\n",
      " 75%|█████████████████████████████▏         | 151/202 [00:07<00:00, 53.38 ctx/s]\n",
      " 78%|██████████████████████████████▌        | 158/202 [00:07<00:00, 51.22 ctx/s]\n",
      "65832 triples [00:07, 2514.93 triples/s]\u001b[A\n",
      " 81%|███████████████████████████████▋       | 164/202 [00:07<00:01, 36.45 ctx/s]\n",
      "68078 triples [00:07, 3846.46 triples/s]\u001b[A\n",
      " 84%|████████████████████████████████▋      | 169/202 [00:07<00:00, 34.26 ctx/s]\n",
      " 90%|███████████████████████████████████▏   | 182/202 [00:07<00:00, 33.99 ctx/s]\n",
      " 93%|████████████████████████████████████   | 187/202 [00:08<00:00, 33.91 ctx/s]\n",
      " 99%|██████████████████████████████████████▍| 199/202 [00:08<00:00, 39.19 ctx/s]\n",
      "                                                                                \n",
      "\u001b[AFinalizing writes to database...     \n",
      "100%|███████████████████████████████████████| 202/202 [00:08<00:00, 39.19 ctx/s]\n",
      "                                                                                \n",
      "\u001b[ALoaded 73,805 triples                \n",
      "100%|███████████████████████████████████████| 202/202 [00:08<00:00, 39.19 ctx/s]\n",
      "73805 triples [00:08, 4628.33 triples/s]\u001b[A\n",
      "100%|███████████████████████████████████████| 202/202 [00:08<00:00, 24.03 ctx/s]\n",
      "Done!\n"
     ]
    }
   ],
   "source": [
    "rm -rf .owm\n",
    "owm clone https://github.com/openworm/OpenWormData.git --branch=461-pow-om-rename"
   ]
  },
  {
   "cell_type": "markdown",
   "metadata": {},
   "source": [
    "## BASICS"
   ]
  },
  {
   "cell_type": "markdown",
   "metadata": {},
   "source": [
    "To create a bundle, you have to register a bundle descriptor. This is a file which describes what's in a bundle.\n",
    "\n",
    "You can make a bundle descriptor file with any editor you like. It's a YAML serialization."
   ]
  },
  {
   "cell_type": "code",
   "execution_count": 19,
   "metadata": {},
   "outputs": [],
   "source": [
    "cat > bundle.yml << HERE\n",
    "---\n",
    "id: example/abundle\n",
    "description: |-\n",
    "    This is a bundle used for demonstration purposes\n",
    "includes:\n",
    "    - http://openworm.org/schema/sci\n",
    "patterns:\n",
    "    - rgx:.*data_sources.*#Neurons/context_for.*\n",
    "    - '*/translators/*'\n",
    "files:\n",
    "    includes:\n",
    "        - src/readme.txt\n",
    "    patterns:\n",
    "        - 'src/data_set_0[0-9][0-9]/**'\n",
    "HERE"
   ]
  },
  {
   "cell_type": "markdown",
   "metadata": {},
   "source": [
    "The `owm bundle register` command actually registers the bundle. This puts a reference to the descriptor file in the .owm directory\n"
   ]
  },
  {
   "cell_type": "code",
   "execution_count": 20,
   "metadata": {},
   "outputs": [],
   "source": [
    "owm bundle register bundle.yml"
   ]
  },
  {
   "cell_type": "markdown",
   "metadata": {},
   "source": [
    "`owm bundle list` lists the bundles registered in this owmeta project"
   ]
  },
  {
   "cell_type": "code",
   "execution_count": 21,
   "metadata": {},
   "outputs": [
    {
     "name": "stdout",
     "output_type": "stream",
     "text": [
      "example/abundle - This is a bundle used for demonstration purposes\n"
     ]
    }
   ],
   "source": [
    "owm bundle list"
   ]
  },
  {
   "cell_type": "markdown",
   "metadata": {},
   "source": [
    "If you move or rename a bundle file owmeta will not know about it: it does not track file moves. It will, however, tell you if a bundle descriptor cannot be found when you list registered bundles."
   ]
  },
  {
   "cell_type": "code",
   "execution_count": 22,
   "metadata": {},
   "outputs": [
    {
     "name": "stdout",
     "output_type": "stream",
     "text": [
      "example/abundle - ERROR: Cannot read bundle descriptor at 'bundle.yml'\n"
     ]
    }
   ],
   "source": [
    "mv bundle.yml aBundle.yml\n",
    "owm bundle list"
   ]
  },
  {
   "cell_type": "markdown",
   "metadata": {},
   "source": [
    "To correct this, you must re-register the bundle at the new location"
   ]
  },
  {
   "cell_type": "code",
   "execution_count": 25,
   "metadata": {},
   "outputs": [
    {
     "name": "stdout",
     "output_type": "stream",
     "text": [
      "example/abundle - This is a bundle used for demonstration purposes\n"
     ]
    }
   ],
   "source": [
    "owm bundle register aBundle.yml\n",
    "owm bundle list"
   ]
  },
  {
   "cell_type": "markdown",
   "metadata": {},
   "source": [
    "If you're done with a bundle, you deregister it. You can provide either the descriptor file name or the bundle name"
   ]
  },
  {
   "cell_type": "code",
   "execution_count": 28,
   "metadata": {},
   "outputs": [],
   "source": [
    "owm bundle deregister 'example/abundle'\n",
    "owm bundle list"
   ]
  },
  {
   "cell_type": "markdown",
   "metadata": {},
   "source": [
    "## FETCH"
   ]
  },
  {
   "cell_type": "markdown",
   "metadata": {},
   "source": [
    "[BASIC](#BASIC) showed us how to create and list bundles, but what about when you want someone else's bundles? To fetch a bundle, you need the bundle name. That name is queried for in your local repository (see below in [LOCAL](#LOCAL)), then in any remotes configured in your \".owm\" directory or user settings, and finally the default remote (see [REMOTE](#REMOTE)). `owm bundle fetch` does this for you."
   ]
  },
  {
   "cell_type": "code",
   "execution_count": 29,
   "metadata": {},
   "outputs": [
    {
     "name": "stdout",
     "output_type": "stream",
     "text": [
      "No loader could be found for \"example/bundle.00\"\n"
     ]
    },
    {
     "ename": "",
     "evalue": "1",
     "output_type": "error",
     "traceback": []
    }
   ],
   "source": [
    "owm bundle fetch example/bundle.00"
   ]
  },
  {
   "cell_type": "markdown",
   "metadata": {},
   "source": [
    "Fetching a bundle puts it in your local repository so you can use it in any projects on the local machine. You use a bundle in Python with the Bundle object. You can access contexts within a bundle by passing the context to the bundle as shown below."
   ]
  },
  {
   "cell_type": "code",
   "execution_count": null,
   "metadata": {},
   "outputs": [],
   "source": [
    "use_a_bundle 'example/bundle.01' \\\n",
    "    'https://openworm.org/data#example_bundle_context'"
   ]
  },
  {
   "cell_type": "markdown",
   "metadata": {},
   "source": [
    "Note that the bundle does not need to have been already fetched. use_a_bundle.py, we use a bundle example/bundle.01 which we had not previously fetched. When you make the Bundle object, owmeta will retrieve the bundle from remotes if necessary."
   ]
  }
 ],
 "metadata": {
  "kernelspec": {
   "display_name": "Bash",
   "language": "bash",
   "name": "bash"
  },
  "language_info": {
   "codemirror_mode": "shell",
   "file_extension": ".sh",
   "mimetype": "text/x-sh",
   "name": "bash"
  }
 },
 "nbformat": 4,
 "nbformat_minor": 2
}
